{
    "cells": [
        {
            "metadata": {
                "collapsed": true
            },
            "cell_type": "markdown",
            "source": "## DESCRIPTION & DISUCSSION OF THE BACKGROUND"
        },
        {
            "metadata": {},
            "cell_type": "markdown",
            "source": "London is a megacity, the capital of the United Kingdom and one of the oldest of the world\u2019s great cities, with its history spanning nearly two millennia. By far Britain's largest metropolis, it is also the country\u2019s economic, transportation, and cultural center. The population of London had already exceeded one million by 1800 and it reached 9 million in 2018. London and the UK's population has one of the most diverse groups of origin countries in the world. Also, London is one of the world's leading tourism destinations with 21 million international visitors in 2018.\n<br>\n<br>\nIn recent years the restaurant industry in the United Kingdom and specifically London has undergone a period of growth. Consumer expenditure on restaurants and cafes reached close to \u00a3 88 billion in 2017. The number of enterprises has been steadily increasing, contributing \u00a3 17.9 billion to the British Economy.\n<br>\n<br>\nConsidering London's diversity and ethnicity it is evident that starting a restaurant business would earn you more money comparatively than most of the other businesses. Although, with more profitable business there comes the most competition. This article can serve as one of the guides to start a restaurant business based on a particular cuisine like Indian, Italian, American, etc., by providing a specific location. The number of restaurants in a specific location categorized based on cuisine and population distribution based on ethnicity and culture are some of the features considered for analysis."
        },
        {
            "metadata": {},
            "cell_type": "markdown",
            "source": "## PROBLEM DESCRIPTION"
        },
        {
            "metadata": {},
            "cell_type": "markdown",
            "source": "A restaurant is a business which prepares and serves food and drink to customers in return for money, either paid before the meal, after the meal or with an open account. London is famous for its excellent cuisine. Its food culture includes an array of international cuisines influenced by the city\u2019s immigrant history.\n<br>\n<br>\nSo, it is evident that to survive in such competitive market it is very important to strategically plan. Various factors need to be studied in order to decide on location such as;\n1.\tLondon Population and demographics \n2.\tWho are the competitors in that location?\n3.\tCuisine served / Menu of the competitors\n4.\tAre there any venues like Tourist attractions, Entertainment zones, Parks etc., nearby where floating population is high.\n5.\tSegmentation of the Borough\n6.\tUntapped markets\n7.\tSaturated markets etc. \n\nEven though well-funded ABC Restaurant needs to choose the correct location to start its first venture. If this is successful, they can replicate the same in other locations. First move is very important, thereby choice of location is very important.\n\n##### Target Audience: \nTo recommend the correct location, ABC Restaurant has appointed me to lead of the Data Science team. The objective is to locate and recommend to the management which neighborhood of London will be best choice to start a restaurant based on cuisine. The management also expects to understand the rationale of the recommendations made.\n\n##### Success Criteria: \nThe success criteria of the project will be a good recommendation of neighborhood choice to ABC Restaurant based on lack of such restaurants considering cuisine as a factor in that location.\n"
        },
        {
            "metadata": {},
            "cell_type": "markdown",
            "source": "To build a recommendation model, following datasets and information are considered for analysis;\n1.\tScrapped Wikipedia using BeautifulSoup, to extract information about 33 London boroughs also known as local authority districts. Also, considered local areas or neighborhoods for each borough for detailed analysis.\n2.\tI used Foursquare API to get information about available restaurants for a given neighborhood and borough in London. The API also provided information about restaurant styles based on cuisine.\n3.\tEmployed data provided by the British Government from data.london.gov.uk to get more insights about London boroughs. The data provided knowledge about the population density, immigrants' country of origin and many more.\n"
        },
        {
            "metadata": {},
            "cell_type": "code",
            "source": "",
            "execution_count": null,
            "outputs": []
        }
    ],
    "metadata": {
        "kernelspec": {
            "name": "python3",
            "display_name": "Python 3.7",
            "language": "python"
        },
        "language_info": {
            "name": "python",
            "version": "3.7.9",
            "mimetype": "text/x-python",
            "codemirror_mode": {
                "name": "ipython",
                "version": 3
            },
            "pygments_lexer": "ipython3",
            "nbconvert_exporter": "python",
            "file_extension": ".py"
        }
    },
    "nbformat": 4,
    "nbformat_minor": 1
}